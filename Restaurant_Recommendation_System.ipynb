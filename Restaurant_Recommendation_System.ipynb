{
  "nbformat": 4,
  "nbformat_minor": 0,
  "metadata": {
    "accelerator": "GPU",
    "colab": {
      "name": "Restaurant Recommendation System.ipynb",
      "provenance": [],
      "collapsed_sections": []
    },
    "kernelspec": {
      "display_name": "Python 3",
      "name": "python3"
    }
  },
  "cells": [
    {
      "cell_type": "markdown",
      "metadata": {
        "id": "j3HwWUi98hTN"
      },
      "source": [
        "A Restaurant recommendation system uses content-based filtering.The dataset I’ll be using here consists of restaurants in Bangalore, India, collected from Zomato. You can download the dataset from https://www.kaggle.com/chanakyavivekkapoor/bangalore-restaurants-analysis\r\n",
        "\r\n",
        "I will try to create a content-based recommendation system where when I enter the name of a restaurant, the Restaurant recommendation system will look at reviews from other restaurants, and System will recommend us to the other restaurants with similar reviews and address sort them from the top-rated. "
      ]
    },
    {
      "cell_type": "code",
      "metadata": {
        "colab": {
          "base_uri": "https://localhost:8080/"
        },
        "id": "azEC7mRqsJKw",
        "outputId": "0435e7ee-327d-492b-fadd-df5807160092"
      },
      "source": [
        "from google.colab import drive\r\n",
        "drive.mount('/content/drive/')"
      ],
      "execution_count": 3,
      "outputs": [
        {
          "output_type": "stream",
          "text": [
            "Drive already mounted at /content/drive/; to attempt to forcibly remount, call drive.mount(\"/content/drive/\", force_remount=True).\n"
          ],
          "name": "stdout"
        }
      ]
    },
    {
      "cell_type": "code",
      "metadata": {
        "id": "F5D-sQFEsf7R"
      },
      "source": [
        "#import Python Libraries\r\n",
        "import numpy as np\r\n",
        "import pandas as pd\r\n",
        "import warnings\r\n",
        "import warnings\r\n",
        "warnings.filterwarnings('always')\r\n",
        "warnings.filterwarnings('ignore')"
      ],
      "execution_count": 4,
      "outputs": []
    },
    {
      "cell_type": "code",
      "metadata": {
        "colab": {
          "base_uri": "https://localhost:8080/",
          "height": 584
        },
        "id": "iSjSShmNsp0_",
        "outputId": "916c565b-383e-4d94-81c3-a13eac2a7a48"
      },
      "source": [
        "#load and read the dataset:\r\n",
        "df = pd.read_csv(\"/content/drive/MyDrive/Datasets/Restaurant Recommendation System/zomato.csv\")\r\n",
        "df.head()"
      ],
      "execution_count": 5,
      "outputs": [
        {
          "output_type": "execute_result",
          "data": {
            "text/html": [
              "<div>\n",
              "<style scoped>\n",
              "    .dataframe tbody tr th:only-of-type {\n",
              "        vertical-align: middle;\n",
              "    }\n",
              "\n",
              "    .dataframe tbody tr th {\n",
              "        vertical-align: top;\n",
              "    }\n",
              "\n",
              "    .dataframe thead th {\n",
              "        text-align: right;\n",
              "    }\n",
              "</style>\n",
              "<table border=\"1\" class=\"dataframe\">\n",
              "  <thead>\n",
              "    <tr style=\"text-align: right;\">\n",
              "      <th></th>\n",
              "      <th>url</th>\n",
              "      <th>address</th>\n",
              "      <th>name</th>\n",
              "      <th>online_order</th>\n",
              "      <th>book_table</th>\n",
              "      <th>rate</th>\n",
              "      <th>votes</th>\n",
              "      <th>phone</th>\n",
              "      <th>location</th>\n",
              "      <th>rest_type</th>\n",
              "      <th>dish_liked</th>\n",
              "      <th>cuisines</th>\n",
              "      <th>approx_cost(for two people)</th>\n",
              "      <th>reviews_list</th>\n",
              "      <th>menu_item</th>\n",
              "      <th>listed_in(type)</th>\n",
              "      <th>listed_in(city)</th>\n",
              "    </tr>\n",
              "  </thead>\n",
              "  <tbody>\n",
              "    <tr>\n",
              "      <th>0</th>\n",
              "      <td>https://www.zomato.com/bangalore/jalsa-banasha...</td>\n",
              "      <td>942, 21st Main Road, 2nd Stage, Banashankari, ...</td>\n",
              "      <td>Jalsa</td>\n",
              "      <td>Yes</td>\n",
              "      <td>Yes</td>\n",
              "      <td>4.1/5</td>\n",
              "      <td>775</td>\n",
              "      <td>080 42297555\\r\\n+91 9743772233</td>\n",
              "      <td>Banashankari</td>\n",
              "      <td>Casual Dining</td>\n",
              "      <td>Pasta, Lunch Buffet, Masala Papad, Paneer Laja...</td>\n",
              "      <td>North Indian, Mughlai, Chinese</td>\n",
              "      <td>800</td>\n",
              "      <td>[('Rated 4.0', 'RATED\\n  A beautiful place to ...</td>\n",
              "      <td>[]</td>\n",
              "      <td>Buffet</td>\n",
              "      <td>Banashankari</td>\n",
              "    </tr>\n",
              "    <tr>\n",
              "      <th>1</th>\n",
              "      <td>https://www.zomato.com/bangalore/spice-elephan...</td>\n",
              "      <td>2nd Floor, 80 Feet Road, Near Big Bazaar, 6th ...</td>\n",
              "      <td>Spice Elephant</td>\n",
              "      <td>Yes</td>\n",
              "      <td>No</td>\n",
              "      <td>4.1/5</td>\n",
              "      <td>787</td>\n",
              "      <td>080 41714161</td>\n",
              "      <td>Banashankari</td>\n",
              "      <td>Casual Dining</td>\n",
              "      <td>Momos, Lunch Buffet, Chocolate Nirvana, Thai G...</td>\n",
              "      <td>Chinese, North Indian, Thai</td>\n",
              "      <td>800</td>\n",
              "      <td>[('Rated 4.0', 'RATED\\n  Had been here for din...</td>\n",
              "      <td>[]</td>\n",
              "      <td>Buffet</td>\n",
              "      <td>Banashankari</td>\n",
              "    </tr>\n",
              "    <tr>\n",
              "      <th>2</th>\n",
              "      <td>https://www.zomato.com/SanchurroBangalore?cont...</td>\n",
              "      <td>1112, Next to KIMS Medical College, 17th Cross...</td>\n",
              "      <td>San Churro Cafe</td>\n",
              "      <td>Yes</td>\n",
              "      <td>No</td>\n",
              "      <td>3.8/5</td>\n",
              "      <td>918</td>\n",
              "      <td>+91 9663487993</td>\n",
              "      <td>Banashankari</td>\n",
              "      <td>Cafe, Casual Dining</td>\n",
              "      <td>Churros, Cannelloni, Minestrone Soup, Hot Choc...</td>\n",
              "      <td>Cafe, Mexican, Italian</td>\n",
              "      <td>800</td>\n",
              "      <td>[('Rated 3.0', \"RATED\\n  Ambience is not that ...</td>\n",
              "      <td>[]</td>\n",
              "      <td>Buffet</td>\n",
              "      <td>Banashankari</td>\n",
              "    </tr>\n",
              "    <tr>\n",
              "      <th>3</th>\n",
              "      <td>https://www.zomato.com/bangalore/addhuri-udupi...</td>\n",
              "      <td>1st Floor, Annakuteera, 3rd Stage, Banashankar...</td>\n",
              "      <td>Addhuri Udupi Bhojana</td>\n",
              "      <td>No</td>\n",
              "      <td>No</td>\n",
              "      <td>3.7/5</td>\n",
              "      <td>88</td>\n",
              "      <td>+91 9620009302</td>\n",
              "      <td>Banashankari</td>\n",
              "      <td>Quick Bites</td>\n",
              "      <td>Masala Dosa</td>\n",
              "      <td>South Indian, North Indian</td>\n",
              "      <td>300</td>\n",
              "      <td>[('Rated 4.0', \"RATED\\n  Great food and proper...</td>\n",
              "      <td>[]</td>\n",
              "      <td>Buffet</td>\n",
              "      <td>Banashankari</td>\n",
              "    </tr>\n",
              "    <tr>\n",
              "      <th>4</th>\n",
              "      <td>https://www.zomato.com/bangalore/grand-village...</td>\n",
              "      <td>10, 3rd Floor, Lakshmi Associates, Gandhi Baza...</td>\n",
              "      <td>Grand Village</td>\n",
              "      <td>No</td>\n",
              "      <td>No</td>\n",
              "      <td>3.8/5</td>\n",
              "      <td>166</td>\n",
              "      <td>+91 8026612447\\r\\n+91 9901210005</td>\n",
              "      <td>Basavanagudi</td>\n",
              "      <td>Casual Dining</td>\n",
              "      <td>Panipuri, Gol Gappe</td>\n",
              "      <td>North Indian, Rajasthani</td>\n",
              "      <td>600</td>\n",
              "      <td>[('Rated 4.0', 'RATED\\n  Very good restaurant ...</td>\n",
              "      <td>[]</td>\n",
              "      <td>Buffet</td>\n",
              "      <td>Banashankari</td>\n",
              "    </tr>\n",
              "  </tbody>\n",
              "</table>\n",
              "</div>"
            ],
            "text/plain": [
              "                                                 url  ... listed_in(city)\n",
              "0  https://www.zomato.com/bangalore/jalsa-banasha...  ...    Banashankari\n",
              "1  https://www.zomato.com/bangalore/spice-elephan...  ...    Banashankari\n",
              "2  https://www.zomato.com/SanchurroBangalore?cont...  ...    Banashankari\n",
              "3  https://www.zomato.com/bangalore/addhuri-udupi...  ...    Banashankari\n",
              "4  https://www.zomato.com/bangalore/grand-village...  ...    Banashankari\n",
              "\n",
              "[5 rows x 17 columns]"
            ]
          },
          "metadata": {
            "tags": []
          },
          "execution_count": 5
        }
      ]
    },
    {
      "cell_type": "code",
      "metadata": {
        "colab": {
          "base_uri": "https://localhost:8080/"
        },
        "id": "weXZ4c1vNdLi",
        "outputId": "e675286c-5120-4396-c90c-5e908bd7bc8b"
      },
      "source": [
        "df.info()"
      ],
      "execution_count": 6,
      "outputs": [
        {
          "output_type": "stream",
          "text": [
            "<class 'pandas.core.frame.DataFrame'>\n",
            "RangeIndex: 51717 entries, 0 to 51716\n",
            "Data columns (total 17 columns):\n",
            " #   Column                       Non-Null Count  Dtype \n",
            "---  ------                       --------------  ----- \n",
            " 0   url                          51717 non-null  object\n",
            " 1   address                      51717 non-null  object\n",
            " 2   name                         51717 non-null  object\n",
            " 3   online_order                 51717 non-null  object\n",
            " 4   book_table                   51717 non-null  object\n",
            " 5   rate                         43942 non-null  object\n",
            " 6   votes                        51717 non-null  int64 \n",
            " 7   phone                        50509 non-null  object\n",
            " 8   location                     51696 non-null  object\n",
            " 9   rest_type                    51490 non-null  object\n",
            " 10  dish_liked                   23639 non-null  object\n",
            " 11  cuisines                     51672 non-null  object\n",
            " 12  approx_cost(for two people)  51371 non-null  object\n",
            " 13  reviews_list                 51717 non-null  object\n",
            " 14  menu_item                    51717 non-null  object\n",
            " 15  listed_in(type)              51717 non-null  object\n",
            " 16  listed_in(city)              51717 non-null  object\n",
            "dtypes: int64(1), object(16)\n",
            "memory usage: 6.7+ MB\n"
          ],
          "name": "stdout"
        }
      ]
    },
    {
      "cell_type": "code",
      "metadata": {
        "colab": {
          "base_uri": "https://localhost:8080/"
        },
        "id": "_XWQZr3WNuL5",
        "outputId": "df7f22d8-c0be-40ce-809c-d7e222412f0b"
      },
      "source": [
        "df.columns"
      ],
      "execution_count": 7,
      "outputs": [
        {
          "output_type": "execute_result",
          "data": {
            "text/plain": [
              "Index(['url', 'address', 'name', 'online_order', 'book_table', 'rate', 'votes',\n",
              "       'phone', 'location', 'rest_type', 'dish_liked', 'cuisines',\n",
              "       'approx_cost(for two people)', 'reviews_list', 'menu_item',\n",
              "       'listed_in(type)', 'listed_in(city)'],\n",
              "      dtype='object')"
            ]
          },
          "metadata": {
            "tags": []
          },
          "execution_count": 7
        }
      ]
    },
    {
      "cell_type": "code",
      "metadata": {
        "id": "upsi2lWON2nu"
      },
      "source": [
        "#Deleting Unnnecessary Columns\r\n",
        "cleaning_df=df.drop(['url','dish_liked','phone','rest_type', 'listed_in(type)', 'menu_item', 'votes','approx_cost(for two people)'],axis=1) "
      ],
      "execution_count": 8,
      "outputs": []
    },
    {
      "cell_type": "code",
      "metadata": {
        "id": "ROhh6y9wx6Wm"
      },
      "source": [
        "#Removing the Duplicates\r\n",
        "cleaning_df.duplicated().sum()\r\n",
        "cleaning_df.drop_duplicates(inplace=True)"
      ],
      "execution_count": 9,
      "outputs": []
    },
    {
      "cell_type": "code",
      "metadata": {
        "id": "yPvUlNehyKSD"
      },
      "source": [
        "#Remove the NaN values from the dataset\r\n",
        "cleaning_df.isnull().sum()\r\n",
        "cleaning_df.dropna(how='any',inplace=True)"
      ],
      "execution_count": 10,
      "outputs": []
    },
    {
      "cell_type": "code",
      "metadata": {
        "id": "dp79FbqlyZH1"
      },
      "source": [
        "#Changing the column names\r\n",
        "cleaning_df = cleaning_df.rename(columns={'reviews_list':'review','listed_in(city)':'city'})\r\n"
      ],
      "execution_count": 11,
      "outputs": []
    },
    {
      "cell_type": "code",
      "metadata": {
        "id": "Z_lqNFmhysdx"
      },
      "source": [
        "#Removing '/5' from Rates\r\n",
        "cleaning_df = cleaning_df.loc[cleaning_df.rate !='NEW']\r\n",
        "cleaning_df = cleaning_df.loc[cleaning_df.rate !='-'].reset_index(drop=True)\r\n",
        "remove_slash = lambda x: x.replace('/5', '') if type(x) == np.str else x\r\n",
        "cleaning_df.rate = cleaning_df.rate.apply(remove_slash).str.strip().astype('float')\r\n"
      ],
      "execution_count": 12,
      "outputs": []
    },
    {
      "cell_type": "code",
      "metadata": {
        "id": "6ip6mqdGzSC-"
      },
      "source": [
        "## Lower Casing\r\n",
        "cleaning_df[\"review\"] = cleaning_df[\"review\"].str.lower()"
      ],
      "execution_count": 13,
      "outputs": []
    },
    {
      "cell_type": "code",
      "metadata": {
        "id": "Ux_zGMBAsr53"
      },
      "source": [
        "## Removal of Puctuations\r\n",
        "import string\r\n",
        "PUNCT_TO_REMOVE = string.punctuation\r\n",
        "def remove_punctuation(text):\r\n",
        "    \"\"\"custom function to remove the punctuation\"\"\"\r\n",
        "    return text.translate(str.maketrans('', '', PUNCT_TO_REMOVE))\r\n",
        "\r\n",
        "cleaning_df[\"review\"] = cleaning_df[\"review\"].apply(lambda text: remove_punctuation(text))\r\n",
        "\r\n",
        "\r\n"
      ],
      "execution_count": 14,
      "outputs": []
    },
    {
      "cell_type": "code",
      "metadata": {
        "id": "P37ouXwa7Csj"
      },
      "source": [
        "## Removal of Stopwords\r\n",
        "from nltk.corpus import stopwords\r\n",
        "STOPWORDS = set(stopwords.words('english'))\r\n",
        "def remove_stopwords(text):\r\n",
        "    \"\"\"custom function to remove the stopwords\"\"\"\r\n",
        "    return \" \".join([word for word in str(text).split() if word not in STOPWORDS])\r\n",
        "\r\n",
        "cleaning_df[\"review\"] = cleaning_df[\"review\"].apply(lambda text: remove_stopwords(text))"
      ],
      "execution_count": null,
      "outputs": []
    },
    {
      "cell_type": "code",
      "metadata": {
        "colab": {
          "base_uri": "https://localhost:8080/",
          "height": 197
        },
        "id": "ET6b4_fG4DRd",
        "outputId": "8b7cf396-3daa-4148-e3a2-d0167ea196bb"
      },
      "source": [
        "## Removal of URLS\r\n",
        "import re\r\n",
        "\r\n",
        "def remove_urls(text):\r\n",
        "    url_pattern = re.compile(r'https?://\\S+|www\\.\\S+')\r\n",
        "    return url_pattern.sub(r'', text)\r\n",
        "\r\n",
        "cleaning_df[\"review\"] = cleaning_df[\"review\"].apply(lambda text: remove_urls(text))\r\n",
        "\r\n",
        "cleaning_df[['review', 'cuisines']].sample(5)"
      ],
      "execution_count": 16,
      "outputs": [
        {
          "output_type": "execute_result",
          "data": {
            "text/html": [
              "<div>\n",
              "<style scoped>\n",
              "    .dataframe tbody tr th:only-of-type {\n",
              "        vertical-align: middle;\n",
              "    }\n",
              "\n",
              "    .dataframe tbody tr th {\n",
              "        vertical-align: top;\n",
              "    }\n",
              "\n",
              "    .dataframe thead th {\n",
              "        text-align: right;\n",
              "    }\n",
              "</style>\n",
              "<table border=\"1\" class=\"dataframe\">\n",
              "  <thead>\n",
              "    <tr style=\"text-align: right;\">\n",
              "      <th></th>\n",
              "      <th>review</th>\n",
              "      <th>cuisines</th>\n",
              "    </tr>\n",
              "  </thead>\n",
              "  <tbody>\n",
              "    <tr>\n",
              "      <th>20340</th>\n",
              "      <td>rated 30 ratedn  ordered gobi little spicy but...</td>\n",
              "      <td>Kerala</td>\n",
              "    </tr>\n",
              "    <tr>\n",
              "      <th>24254</th>\n",
              "      <td>rated 50 ratedn  bar is quiet gud fr pork stat...</td>\n",
              "      <td>North Indian, Chinese</td>\n",
              "    </tr>\n",
              "    <tr>\n",
              "      <th>4075</th>\n",
              "      <td>rated 40 ratedn  to all those tea lovers this ...</td>\n",
              "      <td>Continental, Cafe, Desserts, Salad, Momos</td>\n",
              "    </tr>\n",
              "    <tr>\n",
              "      <th>30164</th>\n",
              "      <td>rated 40 ratedn  we order hariyani chicken and...</td>\n",
              "      <td>North Indian, Mughlai, Chinese, Rolls</td>\n",
              "    </tr>\n",
              "    <tr>\n",
              "      <th>20250</th>\n",
              "      <td>rated 40 ratedn  my favorite chai place was op...</td>\n",
              "      <td>Cafe, Tea, North Indian</td>\n",
              "    </tr>\n",
              "  </tbody>\n",
              "</table>\n",
              "</div>"
            ],
            "text/plain": [
              "                                                  review                                   cuisines\n",
              "20340  rated 30 ratedn  ordered gobi little spicy but...                                     Kerala\n",
              "24254  rated 50 ratedn  bar is quiet gud fr pork stat...                      North Indian, Chinese\n",
              "4075   rated 40 ratedn  to all those tea lovers this ...  Continental, Cafe, Desserts, Salad, Momos\n",
              "30164  rated 40 ratedn  we order hariyani chicken and...      North Indian, Mughlai, Chinese, Rolls\n",
              "20250  rated 40 ratedn  my favorite chai place was op...                    Cafe, Tea, North Indian"
            ]
          },
          "metadata": {
            "tags": []
          },
          "execution_count": 16
        }
      ]
    },
    {
      "cell_type": "code",
      "metadata": {
        "colab": {
          "base_uri": "https://localhost:8080/"
        },
        "id": "-KzK84kD47Ye",
        "outputId": "c530ac77-1641-4e9a-ac8b-a996cf66fb84"
      },
      "source": [
        "# RESTAURANT NAMES:\r\n",
        "print(\"Total number of restaurants in Bengaluru are: \", len(df['name'].unique()))"
      ],
      "execution_count": 17,
      "outputs": [
        {
          "output_type": "stream",
          "text": [
            "Total number of restaurants in Bengaluru are:  8792\n"
          ],
          "name": "stdout"
        }
      ]
    },
    {
      "cell_type": "code",
      "metadata": {
        "id": "KjUQ17uUtOZh"
      },
      "source": [
        "# RESTAURANT NAMES:\r\n",
        "restaurant_names = list(cleaning_df['name'].unique())\r\n",
        "def get_top_words(column, top_nu_of_words, nu_of_word):\r\n",
        "    vec = CountVectorizer(ngram_range= nu_of_word, stop_words='english')\r\n",
        "    bag_of_words = vec.fit_transform(column)\r\n",
        "    sum_words = bag_of_words.sum(axis=0)\r\n",
        "    words_freq = [(word, sum_words[0, idx]) for word, idx in vec.vocabulary_.items()]\r\n",
        "    words_freq =sorted(words_freq, key = lambda x: x[1], reverse=True)\r\n",
        "    return words_freq[:top_nu_of_words]"
      ],
      "execution_count": 18,
      "outputs": []
    },
    {
      "cell_type": "code",
      "metadata": {
        "id": "LQn0RZVz9wrb"
      },
      "source": [
        "# Randomly sample 50% of your dataframe\r\n",
        "final_df = cleaning_df.sample(frac=0.5)\r\n",
        "final_df.set_index('name', inplace=True)\r\n",
        "indices = pd.Series(final_df.index)\r\n"
      ],
      "execution_count": 19,
      "outputs": []
    },
    {
      "cell_type": "code",
      "metadata": {
        "id": "Zw6wvMBXyvya"
      },
      "source": [
        "# Creating tf-idf matrix\r\n",
        "from sklearn.feature_extraction.text import TfidfVectorizer\r\n",
        "tfidf = TfidfVectorizer(analyzer='word', ngram_range=(1, 2), min_df=0, stop_words='english')\r\n",
        "tfidf_matrix = tfidf.fit_transform(final_df['review'])\r\n",
        "\r\n",
        "from sklearn.metrics.pairwise import linear_kernel\r\n",
        "cosine_similarities = linear_kernel(tfidf_matrix, tfidf_matrix)"
      ],
      "execution_count": 20,
      "outputs": []
    },
    {
      "cell_type": "code",
      "metadata": {
        "colab": {
          "base_uri": "https://localhost:8080/",
          "height": 214
        },
        "id": "uPBineUM3X02",
        "outputId": "554a4ffb-ea32-449e-ec89-5918bd9dca45"
      },
      "source": [
        "\r\n",
        "def recommend(name, cosine_similarities = cosine_similarities):\r\n",
        "    \r\n",
        "    # Create a list to put top restaurants\r\n",
        "    recommend_restaurant = []\r\n",
        "    \r\n",
        "    # Find the index of the hotel entered\r\n",
        "    idx = indices[indices == name].index[0]\r\n",
        "    \r\n",
        "    # Find the restaurants with a similar cosine-sim value and order them from bigges number\r\n",
        "    score_series = pd.Series(cosine_similarities[idx]).sort_values(ascending=False)\r\n",
        "    \r\n",
        "    # Extract top 10 restaurant indexes with a similar cosine-sim value\r\n",
        "    top10_indexes = list(score_series.iloc[0:11].index)\r\n",
        "    \r\n",
        "    # Names of the top 10 restaurants\r\n",
        "    for each in top10_indexes:\r\n",
        "        recommend_restaurant.append(list(final_df.index)[each])\r\n",
        "    \r\n",
        "    # Creating the new data set to show similar restaurants\r\n",
        "    df_new = pd.DataFrame(columns=['cuisines', 'rate', 'address'])\r\n",
        "    \r\n",
        "    # Create the top 10 similar restaurants with some of their columns\r\n",
        "    for each in recommend_restaurant:\r\n",
        "        df_new = df_new.append(pd.DataFrame(final_df[['cuisines','rate', 'address']][final_df.index == each].sample()))\r\n",
        "    \r\n",
        "    # Drop the same named restaurants and sort only the top 5 by the highest rating\r\n",
        "    df_new = df_new.drop_duplicates(subset=['cuisines','rate', 'address'], keep=False)\r\n",
        "    df_new = df_new.sort_values(by='rate', ascending=False).head(5)\r\n",
        "    \r\n",
        "    print('TOP %s RESTAURANTS LIKE %s WITH SIMILAR REVIEWS: ' % (str(len(df_new)), name))\r\n",
        "    \r\n",
        "    return df_new\r\n",
        "recommend('Pizza Stop')"
      ],
      "execution_count": 32,
      "outputs": [
        {
          "output_type": "stream",
          "text": [
            "TOP 5 RESTAURANTS LIKE Pizza Stop WITH SIMILAR REVIEWS: \n"
          ],
          "name": "stdout"
        },
        {
          "output_type": "execute_result",
          "data": {
            "text/html": [
              "<div>\n",
              "<style scoped>\n",
              "    .dataframe tbody tr th:only-of-type {\n",
              "        vertical-align: middle;\n",
              "    }\n",
              "\n",
              "    .dataframe tbody tr th {\n",
              "        vertical-align: top;\n",
              "    }\n",
              "\n",
              "    .dataframe thead th {\n",
              "        text-align: right;\n",
              "    }\n",
              "</style>\n",
              "<table border=\"1\" class=\"dataframe\">\n",
              "  <thead>\n",
              "    <tr style=\"text-align: right;\">\n",
              "      <th></th>\n",
              "      <th>cuisines</th>\n",
              "      <th>rate</th>\n",
              "      <th>address</th>\n",
              "    </tr>\n",
              "  </thead>\n",
              "  <tbody>\n",
              "    <tr>\n",
              "      <th>Pizza Stop</th>\n",
              "      <td>Pizza, Italian</td>\n",
              "      <td>3.9</td>\n",
              "      <td>#4, Madras Bank Road, In Airlines Hotel Campus...</td>\n",
              "    </tr>\n",
              "    <tr>\n",
              "      <th>Pizza Stop</th>\n",
              "      <td>Pizza, Italian</td>\n",
              "      <td>3.8</td>\n",
              "      <td>1090, 10th Main Road, 100 Feet Road, Banaswadi...</td>\n",
              "    </tr>\n",
              "    <tr>\n",
              "      <th>Midnight Pizza Slurpp</th>\n",
              "      <td>Italian, Pizza</td>\n",
              "      <td>3.7</td>\n",
              "      <td>104, Sadananda Buliding, Buchappa Layout, Kora...</td>\n",
              "    </tr>\n",
              "    <tr>\n",
              "      <th>Sbarro</th>\n",
              "      <td>Pizza</td>\n",
              "      <td>3.3</td>\n",
              "      <td>Prestige Shantiniketan, B Towers, Food Court, ...</td>\n",
              "    </tr>\n",
              "    <tr>\n",
              "      <th>Pizza Stop</th>\n",
              "      <td>Pizza, Italian</td>\n",
              "      <td>3.2</td>\n",
              "      <td>20, KR Colony, Near Haiku Honda Service Center...</td>\n",
              "    </tr>\n",
              "  </tbody>\n",
              "</table>\n",
              "</div>"
            ],
            "text/plain": [
              "                             cuisines  ...                                            address\n",
              "Pizza Stop             Pizza, Italian  ...  #4, Madras Bank Road, In Airlines Hotel Campus...\n",
              "Pizza Stop             Pizza, Italian  ...  1090, 10th Main Road, 100 Feet Road, Banaswadi...\n",
              "Midnight Pizza Slurpp  Italian, Pizza  ...  104, Sadananda Buliding, Buchappa Layout, Kora...\n",
              "Sbarro                          Pizza  ...  Prestige Shantiniketan, B Towers, Food Court, ...\n",
              "Pizza Stop             Pizza, Italian  ...  20, KR Colony, Near Haiku Honda Service Center...\n",
              "\n",
              "[5 rows x 3 columns]"
            ]
          },
          "metadata": {
            "tags": []
          },
          "execution_count": 32
        }
      ]
    },
    {
      "cell_type": "code",
      "metadata": {
        "id": "1RJG-oNP3DBO"
      },
      "source": [
        ""
      ],
      "execution_count": null,
      "outputs": []
    }
  ]
}